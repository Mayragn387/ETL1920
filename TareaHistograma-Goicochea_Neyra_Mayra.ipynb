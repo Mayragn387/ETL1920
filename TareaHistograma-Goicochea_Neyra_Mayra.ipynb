{
 "cells": [
  {
   "cell_type": "markdown",
   "metadata": {},
   "source": [
    "# Examen ETL: SPARK 02/02"
   ]
  },
  {
   "cell_type": "markdown",
   "metadata": {},
   "source": [
    "Se podrá utilizar toda la información que se encuentra en el campus. \n",
    "\n",
    "El fichero de datos sobre el que se trabajará es el de partidosLigaNBA.txt.\n",
    "\n",
    "A cada una de las preguntas hay que responder explicando brevemente que se pretende hacer antes de lanzar el código.\n",
    "\n",
    "Al documento lo llamareís con vuestro nombre y apellido. Debeís enviarlo a mi correo de CUNEF antes del final del examen.\n",
    "\n",
    "El lenguaje para trabajar con Spark podrá ser python o R indistintamente."
   ]
  },
  {
   "cell_type": "code",
   "execution_count": 1,
   "metadata": {
    "collapsed": false
   },
   "outputs": [],
   "source": [
    "from pyspark import SparkContext\n",
    "sc = SparkContext()"
   ]
  },
  {
   "cell_type": "code",
   "execution_count": 2,
   "metadata": {
    "collapsed": true
   },
   "outputs": [],
   "source": [
    "from pyspark.sql import *\n",
    "from pyspark.sql.functions import *\n",
    "from pyspark.sql.types import *\n",
    "import datetime as dt\n",
    "import re"
   ]
  },
  {
   "cell_type": "code",
   "execution_count": 3,
   "metadata": {
    "collapsed": true
   },
   "outputs": [],
   "source": [
    "from pyspark.sql import SQLContext\n",
    "sqlContext = SQLContext(sc)"
   ]
  },
  {
   "cell_type": "markdown",
   "metadata": {},
   "source": [
    "## 1. Parsear el dataset para su tratamiento (lo que hemos visto hasta ahora, lo necesario para poder usar la información que se nos pide)"
   ]
  },
  {
   "cell_type": "code",
   "execution_count": 4,
   "metadata": {
    "collapsed": false
   },
   "outputs": [],
   "source": [
    "datasource = \"./partidosLigaNBA.csv\"\n",
    "NBA_data = sc.textFile(datasource)"
   ]
  },
  {
   "cell_type": "code",
   "execution_count": 5,
   "metadata": {
    "collapsed": false
   },
   "outputs": [
    {
     "data": {
      "text/plain": [
       "['Date:Start..ET.:Visitor.Neutral:PTS:Home.Neutral:PTS.1',\n",
       " 'Tue, Oct 30, 2007:\"7:30 pm\":Utah Jazz:117:Golden State Warriors:96',\n",
       " 'Tue, Oct 30, 2007:\"7:30 pm\":Houston Rockets:95:Los Angeles Lakers:93',\n",
       " 'Tue, Oct 30, 2007:\"7:00 pm\":Portland Trail Blazers:97:San Antonio Spurs:106',\n",
       " 'Wed, Oct 31, 2007:\"8:00 pm\":Dallas Mavericks:92:Cleveland Cavaliers:74']"
      ]
     },
     "execution_count": 5,
     "metadata": {},
     "output_type": "execute_result"
    }
   ],
   "source": [
    "NBA_data.take(5)"
   ]
  },
  {
   "cell_type": "code",
   "execution_count": 6,
   "metadata": {
    "collapsed": false
   },
   "outputs": [
    {
     "data": {
      "text/plain": [
       "12908"
      ]
     },
     "execution_count": 6,
     "metadata": {},
     "output_type": "execute_result"
    }
   ],
   "source": [
    "NBA_data.count()"
   ]
  },
  {
   "cell_type": "code",
   "execution_count": 7,
   "metadata": {
    "collapsed": true
   },
   "outputs": [],
   "source": [
    "def parse_log2(line):\n",
    "    match = re.search('^\\S{3}..(\\S{3}.\\d+)..(\\d{4}):.(\\d+:\\d{2}.\\S+).:(\\S+.\\S*.\\S*):(\\d+):(\\S+.\\S*.\\S*):(\\d+)',line)\n",
    "    if match is None:\n",
    "        match = re.search('^\\S{3}..(\\S{3}.\\d+)..(\\d{4}):.(\\d+:\\d{2}.\\S+).:(\\S+.\\S*.\\S*):(\\d+):(\\S+.\\S*.\\S*):(\\d+)',line)\n",
    "    if match is None:\n",
    "        return (line, 0)\n",
    "    else:\n",
    "        return (line, 1)"
   ]
  },
  {
   "cell_type": "code",
   "execution_count": 8,
   "metadata": {
    "collapsed": false
   },
   "outputs": [],
   "source": [
    "def map_log(line):\n",
    "    match = re.search('^\\S{3}..(\\S{3}.\\d+)..(\\d{4}):.(\\d+:\\d{2}.\\S+).:(\\S+.\\S*.\\S*):(\\d+):(\\S+.\\S*.\\S*):(\\d+)',line)\n",
    "    if match is None:\n",
    "        match = re.search('^\\S{3}..(\\S{3}.\\d+)..(\\d{4}):.(\\d+:\\d{2}.\\S+).:(\\S+.\\S*.\\S*):(\\d+):(\\S+.\\S*.\\S*):(\\d+)',line)\n",
    "    return(match.groups())"
   ]
  },
  {
   "cell_type": "code",
   "execution_count": 9,
   "metadata": {
    "collapsed": false
   },
   "outputs": [],
   "source": [
    "raw_data = NBA_data.filter(lambda x: \"PTS\" not in x).filter(lambda x: \"Playoffs\" not in x)\n",
    "parsed_rdd = raw_data.map(lambda line: parse_log2(line)).filter(lambda line: line[1] == 1).map(lambda line : line[0])\n",
    "NBA_parsed = parsed_rdd.map(lambda line: map_log(line))"
   ]
  },
  {
   "cell_type": "code",
   "execution_count": 10,
   "metadata": {
    "collapsed": false
   },
   "outputs": [
    {
     "data": {
      "text/plain": [
       "[('Oct 30',\n",
       "  '2007',\n",
       "  '7:30 pm',\n",
       "  'Utah Jazz',\n",
       "  '117',\n",
       "  'Golden State Warriors',\n",
       "  '96')]"
      ]
     },
     "execution_count": 10,
     "metadata": {},
     "output_type": "execute_result"
    }
   ],
   "source": [
    "NBA_parsed.take(1)"
   ]
  },
  {
   "cell_type": "code",
   "execution_count": 11,
   "metadata": {
    "collapsed": false
   },
   "outputs": [
    {
     "data": {
      "text/plain": [
       "12897"
      ]
     },
     "execution_count": 11,
     "metadata": {},
     "output_type": "execute_result"
    }
   ],
   "source": [
    "NBA_parsed.count()"
   ]
  },
  {
   "cell_type": "markdown",
   "metadata": {},
   "source": [
    "## 2. Breve análisis descriptivo para analizar si el dataset está límpio"
   ]
  },
  {
   "cell_type": "code",
   "execution_count": 12,
   "metadata": {
    "collapsed": false
   },
   "outputs": [
    {
     "data": {
      "text/plain": [
       "[array([ 117.,   96.]),\n",
       " array([ 95.,  93.]),\n",
       " array([  97.,  106.]),\n",
       " array([ 92.,  74.]),\n",
       " array([ 103.,  120.])]"
      ]
     },
     "execution_count": 12,
     "metadata": {},
     "output_type": "execute_result"
    }
   ],
   "source": [
    "import numpy as np\n",
    "\n",
    "def parse_interaction(line):\n",
    "    symbolic_indexes = [0,1,2,3,5]\n",
    "    clean_line_split = [item for i,item in enumerate(line) if i not in symbolic_indexes]\n",
    "    return np.array([float(x) for x in clean_line_split])\n",
    "\n",
    "vector_data = NBA_parsed.map(lambda line: parse_interaction(line))\n",
    "vector_data.take(5)"
   ]
  },
  {
   "cell_type": "code",
   "execution_count": 13,
   "metadata": {
    "collapsed": false
   },
   "outputs": [
    {
     "name": "stdout",
     "output_type": "stream",
     "text": [
      "Estadisticas de Puntos Locales:\n",
      " Media: 98.73520973869864\n",
      " Desviacion Estandar: 12.126698613648237\n",
      " Max valor: 154.0\n",
      " Min valor: 54.0\n",
      " Total numero: 12897\n",
      " Numero de valores no cero: 12897.0\n"
     ]
    }
   ],
   "source": [
    "from pyspark.mllib.stat import Statistics \n",
    "from math import sqrt \n",
    "\n",
    "# Compute column summary statistics.\n",
    "summary = Statistics.colStats(vector_data)\n",
    "\n",
    "print(\"Estadisticas de Puntos Locales:\")\n",
    "print(\" Media: {}\".format(summary.mean()[0]))\n",
    "print(\" Desviacion Estandar: {}\".format(sqrt(summary.variance()[0])))\n",
    "print(\" Max valor: {}\".format(summary.max()[0]))\n",
    "print(\" Min valor: {}\".format(summary.min()[0]))\n",
    "print(\" Total numero: {}\".format(summary.count()))\n",
    "print(\" Numero de valores no cero: {}\".format(summary.numNonzeros()[0]))"
   ]
  },
  {
   "cell_type": "code",
   "execution_count": 14,
   "metadata": {
    "collapsed": false
   },
   "outputs": [
    {
     "name": "stdout",
     "output_type": "stream",
     "text": [
      "Estadisticas de Puntos Visitas:\n",
      " Media: 101.77801039001278\n",
      " Desviacion Estandar: 12.26352447498637\n",
      " Max valor: 168.0\n",
      " Min valor: 59.0\n",
      " Total numero: 12897\n",
      " Numero de valores no cero: 12897.0\n"
     ]
    }
   ],
   "source": [
    "print(\"Estadisticas de Puntos Visitas:\")\n",
    "print(\" Media: {}\".format(summary.mean()[1]))\n",
    "print(\" Desviacion Estandar: {}\".format(sqrt(summary.variance()[1])))\n",
    "print(\" Max valor: {}\".format(summary.max()[1]))\n",
    "print(\" Min valor: {}\".format(summary.min()[1]))\n",
    "print(\" Total numero: {}\".format(summary.count()))\n",
    "print(\" Numero de valores no cero: {}\".format(summary.numNonzeros()[1]))"
   ]
  },
  {
   "cell_type": "markdown",
   "metadata": {},
   "source": [
    "## 3. Enunciado"
   ]
  },
  {
   "cell_type": "markdown",
   "metadata": {},
   "source": [
    "### 3.1. Primera pregunta: Describe brevemente que diferencia el persists, cache y collect en spark. Explica brevemente casos en los que es interesante su aplicación"
   ]
  },
  {
   "cell_type": "markdown",
   "metadata": {},
   "source": [
    "La persistencia es una técnica de optimización en la que se guarda el resultado intermedio para usarlo si es necesario, ésto permite que no se soobrecargue el sistema.\n",
    "En cuanto a las diferencias entre cache() y persist(), es que el primero (cache) solo se almacena en memoria (almacenamiento predeterminado es MEMORY_ONLY). Mientras que persist tiene varios niveles de almacenamiento (MEMORY_ONLY, MEMORY_AND_DISK, MEMORY_ONLY_SER, MEMORY_AND_DISK_SER y DISK_ONLY).\n",
    "En cambio, Collect es una acción que trae los elementos del RDD al programa driver.\n",
    "Por ejemplo, se puede especificar que en un entorno de Spark, se usa cache para los calculos (se guardan en memoria), y en la aplicación del Spark \"RDD.take(10)\" es que se traen los 10 primeros registros."
   ]
  },
  {
   "cell_type": "markdown",
   "metadata": {},
   "source": [
    "### 3.2. Segunda pregunta: Explica brevemente los pasos a seguir para realizar la carga de un conjunto de datos (pasos que se siguieron en la práctica con datos de logs)"
   ]
  },
  {
   "cell_type": "markdown",
   "metadata": {},
   "source": [
    "* a. Se crea el Contexto Spark donde se va a trabajar.\n",
    "\n",
    "* b. Se crea la asociación del contexto con el archivo a través de la operación TextFile.\n",
    "\n",
    "* c. Mediante el uso del package re, se parsea las lineas del archivo con expresiones regulares para determinar las columnas.\n",
    "\n",
    "* d. También se pueden utilizar funciones de conversión de número y fecha.\n",
    "\n",
    "* e. Con el uso de un sqlContext, se puede trabajar el RDD como si fuera un dataframe. Para ello se tiene que definir el schema, y como los datos ya estan parseados se pueden pasar con un formato limpio. Esta manera de utilizar SQLContexto nos entrega más flexibilidad para revisar los datos."
   ]
  },
  {
   "cell_type": "markdown",
   "metadata": {},
   "source": [
    "### 3.3. Tercera Pregunta: Índica un tipo de problema que puede empeorar los datos. (pe. Que no exista un representante del CDO en todas las áreas de negocio), pon algún ejemplo específico (pe. Datos duplicados) y cómo lo tratarías con técnicas de data cleaning."
   ]
  },
  {
   "cell_type": "markdown",
   "metadata": {},
   "source": [
    "El problema principal, como indica el enunciado, es la duplicidad de datos, la gestión de cada área es independiente y ésto hace que no se estandarice los fórmatos de la información como también puede existir detalles no contemplados en otras área (pe. Un área prefiere manejar la información a nivel de semanas, y otra diaria). Un posible cruce de información sería complicado de realizar.\n",
    "\n",
    "La primera actividad es trabajar con levantamiento de información. Teniendo en cuenta los requerimientos y casos de negocio realizar los prototipos de tablas maestras y tablas detalle. Desarrollar los procesos de extracción de las fuentes. Después, en la etapa de procesamiento, comenzar a hacer los links de las fuentes extraidas y como manejarla (puede ser mediante expresiones regulares y, transformaciones y acciones RD o mediante SQL Context, ésto depende de la complejidad del procesamiento). Finalmente con la información limpia se pueden cargar a las tablas finales (o archivos si se requiere)."
   ]
  },
  {
   "cell_type": "markdown",
   "metadata": {},
   "source": [
    "### 3.4. Cuarta tarea: Inicializar spark context y cargar los datos desde el fichero."
   ]
  },
  {
   "cell_type": "markdown",
   "metadata": {
    "collapsed": true
   },
   "source": [
    "La solución de ésta pregunta se encuentra en el apartado 1. Parsear el dataset para su tratamiento (lo que hemos visto hasta ahora, lo necesario para poder usar la información que se nos pide).\n",
    "Se utiliza el RDD."
   ]
  },
  {
   "cell_type": "markdown",
   "metadata": {},
   "source": [
    "### 3.5. Quinta tarea: Media de la diferencia de puntos por año"
   ]
  },
  {
   "cell_type": "code",
   "execution_count": 15,
   "metadata": {
    "collapsed": true
   },
   "outputs": [],
   "source": [
    "import pandas as pd"
   ]
  },
  {
   "cell_type": "code",
   "execution_count": 16,
   "metadata": {
    "collapsed": false
   },
   "outputs": [],
   "source": [
    "NBA_dif_uniq = NBA_parsed.map(lambda line: (line[1],(int(line[4])-int(line[6])))).reduceByKey(lambda a, b: a + b)\n",
    "\n",
    "NBA_dif_len = NBA_parsed.map(lambda line:  (line[1],line[0])).groupByKey().mapValues(len)\n",
    "#length cuantas peticiones hay en total dado que solo se tiene data de un dia\n",
    "joined = NBA_dif_len.join(NBA_dif_uniq).map(lambda a: (a[0], (a[1][1])/(a[1][0]))).collect()\n",
    "#joined calcula la media de peticiones de cada dia (num peticiones/num hosts)\n",
    "year = [x[0] for x in joined]\n",
    "mean = [x[1] for x in joined]\n",
    "year_dif_dct = {'Año':year, 'Media':mean}\n",
    "year_dif_pt = pd.DataFrame(year_dif_dct)"
   ]
  },
  {
   "cell_type": "code",
   "execution_count": 17,
   "metadata": {
    "collapsed": false
   },
   "outputs": [
    {
     "data": {
      "text/html": [
       "<div>\n",
       "<table border=\"1\" class=\"dataframe\">\n",
       "  <thead>\n",
       "    <tr style=\"text-align: right;\">\n",
       "      <th></th>\n",
       "      <th>Año</th>\n",
       "      <th>Media</th>\n",
       "    </tr>\n",
       "  </thead>\n",
       "  <tbody>\n",
       "    <tr>\n",
       "      <th>6</th>\n",
       "      <td>2007</td>\n",
       "      <td>-2.728070</td>\n",
       "    </tr>\n",
       "    <tr>\n",
       "      <th>5</th>\n",
       "      <td>2008</td>\n",
       "      <td>-3.527027</td>\n",
       "    </tr>\n",
       "    <tr>\n",
       "      <th>8</th>\n",
       "      <td>2009</td>\n",
       "      <td>-3.628419</td>\n",
       "    </tr>\n",
       "    <tr>\n",
       "      <th>9</th>\n",
       "      <td>2010</td>\n",
       "      <td>-2.934141</td>\n",
       "    </tr>\n",
       "    <tr>\n",
       "      <th>3</th>\n",
       "      <td>2011</td>\n",
       "      <td>-3.056497</td>\n",
       "    </tr>\n",
       "    <tr>\n",
       "      <th>10</th>\n",
       "      <td>2012</td>\n",
       "      <td>-3.111262</td>\n",
       "    </tr>\n",
       "    <tr>\n",
       "      <th>1</th>\n",
       "      <td>2013</td>\n",
       "      <td>-2.778701</td>\n",
       "    </tr>\n",
       "    <tr>\n",
       "      <th>4</th>\n",
       "      <td>2014</td>\n",
       "      <td>-2.598951</td>\n",
       "    </tr>\n",
       "    <tr>\n",
       "      <th>7</th>\n",
       "      <td>2015</td>\n",
       "      <td>-2.568613</td>\n",
       "    </tr>\n",
       "    <tr>\n",
       "      <th>2</th>\n",
       "      <td>2016</td>\n",
       "      <td>-3.184546</td>\n",
       "    </tr>\n",
       "    <tr>\n",
       "      <th>0</th>\n",
       "      <td>2017</td>\n",
       "      <td>-3.212951</td>\n",
       "    </tr>\n",
       "  </tbody>\n",
       "</table>\n",
       "</div>"
      ],
      "text/plain": [
       "     Año     Media\n",
       "6   2007 -2.728070\n",
       "5   2008 -3.527027\n",
       "8   2009 -3.628419\n",
       "9   2010 -2.934141\n",
       "3   2011 -3.056497\n",
       "10  2012 -3.111262\n",
       "1   2013 -2.778701\n",
       "4   2014 -2.598951\n",
       "7   2015 -2.568613\n",
       "2   2016 -3.184546\n",
       "0   2017 -3.212951"
      ]
     },
     "execution_count": 17,
     "metadata": {},
     "output_type": "execute_result"
    }
   ],
   "source": [
    "year_dif_pt.sort_values('Año', ascending = True)"
   ]
  },
  {
   "cell_type": "markdown",
   "metadata": {},
   "source": [
    "### 3.6. Sexta tarea: ¿Han judado todos los equipos el mismo número de partidos? ¿ Si es qué no a que puede deberse?"
   ]
  },
  {
   "cell_type": "code",
   "execution_count": 18,
   "metadata": {
    "collapsed": true
   },
   "outputs": [],
   "source": [
    "NBA_loc_pl = NBA_parsed.map(lambda line:  (line[3],line[0])).groupByKey().mapValues(len)\n",
    "NBA_vis_pl = NBA_parsed.map(lambda line:  (line[5],line[0])).groupByKey().mapValues(len)\n",
    "#length cuantas peticiones hay en total dado que solo se tiene data de un dia\n",
    "joined = NBA_loc_pl.join(NBA_vis_pl).map(lambda a: (a[0], (a[1][1])+(a[1][0]))).collect()\n",
    "#joined calcula la media de peticiones de cada dia (num peticiones/num hosts)\n",
    "team = [x[0] for x in joined]\n",
    "count = [x[1] for x in joined]\n",
    "NBA_tm_dct = {'Equipo':team, 'Nro Partidos':count}\n",
    "NBA_tm_pls = pd.DataFrame(NBA_tm_dct)"
   ]
  },
  {
   "cell_type": "code",
   "execution_count": 19,
   "metadata": {
    "collapsed": false
   },
   "outputs": [
    {
     "data": {
      "text/html": [
       "<div>\n",
       "<table border=\"1\" class=\"dataframe\">\n",
       "  <thead>\n",
       "    <tr style=\"text-align: right;\">\n",
       "      <th></th>\n",
       "      <th>Equipo</th>\n",
       "      <th>Nro Partidos</th>\n",
       "    </tr>\n",
       "  </thead>\n",
       "  <tbody>\n",
       "    <tr>\n",
       "      <th>7</th>\n",
       "      <td>San Antonio Spurs</td>\n",
       "      <td>933</td>\n",
       "    </tr>\n",
       "    <tr>\n",
       "      <th>28</th>\n",
       "      <td>Boston Celtics</td>\n",
       "      <td>930</td>\n",
       "    </tr>\n",
       "    <tr>\n",
       "      <th>22</th>\n",
       "      <td>Miami Heat</td>\n",
       "      <td>917</td>\n",
       "    </tr>\n",
       "    <tr>\n",
       "      <th>17</th>\n",
       "      <td>Cleveland Cavaliers</td>\n",
       "      <td>901</td>\n",
       "    </tr>\n",
       "    <tr>\n",
       "      <th>11</th>\n",
       "      <td>Los Angeles Lakers</td>\n",
       "      <td>897</td>\n",
       "    </tr>\n",
       "    <tr>\n",
       "      <th>29</th>\n",
       "      <td>Atlanta Hawks</td>\n",
       "      <td>896</td>\n",
       "    </tr>\n",
       "    <tr>\n",
       "      <th>4</th>\n",
       "      <td>Golden State Warriors</td>\n",
       "      <td>885</td>\n",
       "    </tr>\n",
       "    <tr>\n",
       "      <th>19</th>\n",
       "      <td>Chicago Bulls</td>\n",
       "      <td>873</td>\n",
       "    </tr>\n",
       "    <tr>\n",
       "      <th>13</th>\n",
       "      <td>Houston Rockets</td>\n",
       "      <td>868</td>\n",
       "    </tr>\n",
       "    <tr>\n",
       "      <th>12</th>\n",
       "      <td>Indiana Pacers</td>\n",
       "      <td>868</td>\n",
       "    </tr>\n",
       "    <tr>\n",
       "      <th>18</th>\n",
       "      <td>Memphis Grizzlies</td>\n",
       "      <td>867</td>\n",
       "    </tr>\n",
       "    <tr>\n",
       "      <th>14</th>\n",
       "      <td>Dallas Mavericks</td>\n",
       "      <td>867</td>\n",
       "    </tr>\n",
       "    <tr>\n",
       "      <th>27</th>\n",
       "      <td>Orlando Magic</td>\n",
       "      <td>863</td>\n",
       "    </tr>\n",
       "    <tr>\n",
       "      <th>33</th>\n",
       "      <td>Los Angeles Clippers</td>\n",
       "      <td>861</td>\n",
       "    </tr>\n",
       "    <tr>\n",
       "      <th>21</th>\n",
       "      <td>Portland Trail Blazers</td>\n",
       "      <td>853</td>\n",
       "    </tr>\n",
       "    <tr>\n",
       "      <th>8</th>\n",
       "      <td>Toronto Raptors</td>\n",
       "      <td>850</td>\n",
       "    </tr>\n",
       "    <tr>\n",
       "      <th>20</th>\n",
       "      <td>Denver Nuggets</td>\n",
       "      <td>848</td>\n",
       "    </tr>\n",
       "    <tr>\n",
       "      <th>10</th>\n",
       "      <td>Utah Jazz</td>\n",
       "      <td>846</td>\n",
       "    </tr>\n",
       "    <tr>\n",
       "      <th>16</th>\n",
       "      <td>Washington Wizards</td>\n",
       "      <td>844</td>\n",
       "    </tr>\n",
       "    <tr>\n",
       "      <th>25</th>\n",
       "      <td>Philadelphia 76ers</td>\n",
       "      <td>834</td>\n",
       "    </tr>\n",
       "    <tr>\n",
       "      <th>30</th>\n",
       "      <td>Detroit Pistons</td>\n",
       "      <td>829</td>\n",
       "    </tr>\n",
       "    <tr>\n",
       "      <th>6</th>\n",
       "      <td>Milwaukee Bucks</td>\n",
       "      <td>827</td>\n",
       "    </tr>\n",
       "    <tr>\n",
       "      <th>26</th>\n",
       "      <td>New York Knicks</td>\n",
       "      <td>825</td>\n",
       "    </tr>\n",
       "    <tr>\n",
       "      <th>2</th>\n",
       "      <td>Phoenix Suns</td>\n",
       "      <td>825</td>\n",
       "    </tr>\n",
       "    <tr>\n",
       "      <th>15</th>\n",
       "      <td>Oklahoma City Thunder</td>\n",
       "      <td>818</td>\n",
       "    </tr>\n",
       "    <tr>\n",
       "      <th>31</th>\n",
       "      <td>Minnesota Timberwolves</td>\n",
       "      <td>804</td>\n",
       "    </tr>\n",
       "    <tr>\n",
       "      <th>24</th>\n",
       "      <td>Sacramento Kings</td>\n",
       "      <td>804</td>\n",
       "    </tr>\n",
       "    <tr>\n",
       "      <th>32</th>\n",
       "      <td>Charlotte Bobcats</td>\n",
       "      <td>566</td>\n",
       "    </tr>\n",
       "    <tr>\n",
       "      <th>9</th>\n",
       "      <td>New Orleans Hornets</td>\n",
       "      <td>499</td>\n",
       "    </tr>\n",
       "    <tr>\n",
       "      <th>5</th>\n",
       "      <td>Brooklyn Nets</td>\n",
       "      <td>435</td>\n",
       "    </tr>\n",
       "    <tr>\n",
       "      <th>3</th>\n",
       "      <td>New Jersey Nets</td>\n",
       "      <td>394</td>\n",
       "    </tr>\n",
       "    <tr>\n",
       "      <th>0</th>\n",
       "      <td>New Orleans Pelicans</td>\n",
       "      <td>332</td>\n",
       "    </tr>\n",
       "    <tr>\n",
       "      <th>1</th>\n",
       "      <td>Charlotte Hornets</td>\n",
       "      <td>253</td>\n",
       "    </tr>\n",
       "    <tr>\n",
       "      <th>23</th>\n",
       "      <td>Seattle SuperSonics</td>\n",
       "      <td>82</td>\n",
       "    </tr>\n",
       "  </tbody>\n",
       "</table>\n",
       "</div>"
      ],
      "text/plain": [
       "                    Equipo  Nro Partidos\n",
       "7        San Antonio Spurs           933\n",
       "28          Boston Celtics           930\n",
       "22              Miami Heat           917\n",
       "17     Cleveland Cavaliers           901\n",
       "11      Los Angeles Lakers           897\n",
       "29           Atlanta Hawks           896\n",
       "4    Golden State Warriors           885\n",
       "19           Chicago Bulls           873\n",
       "13         Houston Rockets           868\n",
       "12          Indiana Pacers           868\n",
       "18       Memphis Grizzlies           867\n",
       "14        Dallas Mavericks           867\n",
       "27           Orlando Magic           863\n",
       "33    Los Angeles Clippers           861\n",
       "21  Portland Trail Blazers           853\n",
       "8          Toronto Raptors           850\n",
       "20          Denver Nuggets           848\n",
       "10               Utah Jazz           846\n",
       "16      Washington Wizards           844\n",
       "25      Philadelphia 76ers           834\n",
       "30         Detroit Pistons           829\n",
       "6          Milwaukee Bucks           827\n",
       "26         New York Knicks           825\n",
       "2             Phoenix Suns           825\n",
       "15   Oklahoma City Thunder           818\n",
       "31  Minnesota Timberwolves           804\n",
       "24        Sacramento Kings           804\n",
       "32       Charlotte Bobcats           566\n",
       "9      New Orleans Hornets           499\n",
       "5            Brooklyn Nets           435\n",
       "3          New Jersey Nets           394\n",
       "0     New Orleans Pelicans           332\n",
       "1        Charlotte Hornets           253\n",
       "23     Seattle SuperSonics            82"
      ]
     },
     "execution_count": 19,
     "metadata": {},
     "output_type": "execute_result"
    }
   ],
   "source": [
    "NBA_tm_pls.sort_values('Nro Partidos', ascending = False)"
   ]
  },
  {
   "cell_type": "markdown",
   "metadata": {},
   "source": [
    "### 3.7. Séptima pregunta: ¿Cuantos partidos ha ganado en Enero Clevelant?"
   ]
  },
  {
   "cell_type": "code",
   "execution_count": 20,
   "metadata": {
    "collapsed": true
   },
   "outputs": [],
   "source": [
    "def get_win(line,ind):\n",
    "    local_pt = int(line[4])\n",
    "    vis_pt = int(line[6])\n",
    "    if local_pt > vis_pt:\n",
    "        return(line[3],line[ind])\n",
    "    else:\n",
    "        return(line[5],line[ind])"
   ]
  },
  {
   "cell_type": "code",
   "execution_count": 21,
   "metadata": {
    "collapsed": false
   },
   "outputs": [
    {
     "data": {
      "text/plain": [
       "83"
      ]
     },
     "execution_count": 21,
     "metadata": {},
     "output_type": "execute_result"
    }
   ],
   "source": [
    "NBA_parsed.map(lambda line: get_win(line,0)).filter(lambda x: (\"Jan\" in x[1]) and (\"Clevelan\" in x[0])).count()"
   ]
  },
  {
   "cell_type": "markdown",
   "metadata": {},
   "source": [
    "### 3.8. Octava pregunta: ¿Los Warrios son mejores fuera de casa o en casa?"
   ]
  },
  {
   "cell_type": "code",
   "execution_count": 22,
   "metadata": {
    "collapsed": true
   },
   "outputs": [],
   "source": [
    "def get_win2(line):\n",
    "    local_pt = int(line[4])\n",
    "    vis_pt = int(line[6])\n",
    "    if local_pt > vis_pt:\n",
    "        return('local',line[3])\n",
    "    else:\n",
    "        return('visita',line[5])"
   ]
  },
  {
   "cell_type": "code",
   "execution_count": 23,
   "metadata": {
    "collapsed": false
   },
   "outputs": [
    {
     "data": {
      "text/plain": [
       "[('visita', 308)]"
      ]
     },
     "execution_count": 23,
     "metadata": {},
     "output_type": "execute_result"
    }
   ],
   "source": [
    "Warriors_win = NBA_parsed.map(lambda line: get_win2(line)).filter(lambda x: (\"Warriors\" in x[1])).groupByKey().mapValues(len)\n",
    "Warriors_win.takeOrdered(1, lambda x: -x[1])"
   ]
  },
  {
   "cell_type": "markdown",
   "metadata": {},
   "source": [
    "### 3.9. Novena pregunta: Equipo que ha quedado primerio en victorias más temporadas. (si es que hay alguno que más)"
   ]
  },
  {
   "cell_type": "code",
   "execution_count": 24,
   "metadata": {
    "collapsed": true
   },
   "outputs": [],
   "source": [
    "def get_winner(year,lmatches):\n",
    "    matches = sorted(lmatches,reverse=True)\n",
    "    return(year,matches[0])"
   ]
  },
  {
   "cell_type": "code",
   "execution_count": 25,
   "metadata": {
    "collapsed": false
   },
   "outputs": [],
   "source": [
    "Team_winners = NBA_parsed.map(lambda line: get_win(line,1)).map(lambda x: (x,1)).groupByKey().mapValues(len)\n",
    "Temp_winners = Team_winners.map(lambda x: (x[0][1],x[1])).groupByKey().map(lambda x : [x[0],list(x[1])]).map(lambda line: get_winner(line[0],line[-1]))\n",
    "Winners= Team_winners.map(lambda x: (x[0][1],(x[-1],x[0][0]))).join(Temp_winners.map(lambda y: (y[0],y[1]))).map(lambda line: (line[1][0][-1],line[0],line[1][0][0],line[1][1])).filter(lambda z: z[-2]==z[-1]).map(lambda line: (line[0],(line))).groupByKey().mapValues(len).collect()"
   ]
  },
  {
   "cell_type": "code",
   "execution_count": 26,
   "metadata": {
    "collapsed": false
   },
   "outputs": [],
   "source": [
    "team = [x[0] for x in Winners]\n",
    "temp = [x[1] for x in Winners]\n",
    "vic_count_dct = {'Equipo':team, 'Nro Temp':temp}\n",
    "vic_count_df = pd.DataFrame(vic_count_dct)"
   ]
  },
  {
   "cell_type": "code",
   "execution_count": 27,
   "metadata": {
    "collapsed": false
   },
   "outputs": [
    {
     "data": {
      "text/html": [
       "<div>\n",
       "<table border=\"1\" class=\"dataframe\">\n",
       "  <thead>\n",
       "    <tr style=\"text-align: right;\">\n",
       "      <th></th>\n",
       "      <th>Equipo</th>\n",
       "      <th>Nro Temp</th>\n",
       "    </tr>\n",
       "  </thead>\n",
       "  <tbody>\n",
       "    <tr>\n",
       "      <th>5</th>\n",
       "      <td>Golden State Warriors</td>\n",
       "      <td>3</td>\n",
       "    </tr>\n",
       "    <tr>\n",
       "      <th>1</th>\n",
       "      <td>San Antonio Spurs</td>\n",
       "      <td>2</td>\n",
       "    </tr>\n",
       "    <tr>\n",
       "      <th>3</th>\n",
       "      <td>Los Angeles Lakers</td>\n",
       "      <td>2</td>\n",
       "    </tr>\n",
       "    <tr>\n",
       "      <th>4</th>\n",
       "      <td>Boston Celtics</td>\n",
       "      <td>2</td>\n",
       "    </tr>\n",
       "    <tr>\n",
       "      <th>0</th>\n",
       "      <td>Miami Heat</td>\n",
       "      <td>1</td>\n",
       "    </tr>\n",
       "    <tr>\n",
       "      <th>2</th>\n",
       "      <td>Chicago Bulls</td>\n",
       "      <td>1</td>\n",
       "    </tr>\n",
       "  </tbody>\n",
       "</table>\n",
       "</div>"
      ],
      "text/plain": [
       "                  Equipo  Nro Temp\n",
       "5  Golden State Warriors         3\n",
       "1      San Antonio Spurs         2\n",
       "3     Los Angeles Lakers         2\n",
       "4         Boston Celtics         2\n",
       "0             Miami Heat         1\n",
       "2          Chicago Bulls         1"
      ]
     },
     "execution_count": 27,
     "metadata": {},
     "output_type": "execute_result"
    }
   ],
   "source": [
    "vic_count_df.sort_values('Nro Temp', ascending = False)[:10]"
   ]
  },
  {
   "cell_type": "markdown",
   "metadata": {},
   "source": [
    "###  3.10. Décima pregunta: Escribe la expresión regular correcta que sólo macheen los teléfonos y el correo del siguiente texto."
   ]
  },
  {
   "cell_type": "markdown",
   "metadata": {},
   "source": [
    "Si eres cliente y necesitas información sobre tus posiciones, productos o realizar operaciones: Desde España. Desde el extranjero. Banca telefónica en castellano. Bandera castellano. 902 13 23 13. Banca telefónica en catalán. Bandera catalana. 902 88 30 08. Banca telefónica en inglés. Bandera inglesa. 902 88 88 35. O por correo electrónico a atencioncliente@bankinter.com"
   ]
  },
  {
   "cell_type": "code",
   "execution_count": 28,
   "metadata": {
    "collapsed": true
   },
   "outputs": [],
   "source": [
    "testStr = \"Si eres cliente y necesitas información sobre tus posiciones, productos o realizar operaciones: Desde España. Desde el extranjero. Banca telefónica en castellano. Bandera castellano. 902 13 23 13. Banca telefónica en catalán. Bandera catalana. 902 88 30 08. Banca telefónica en inglés. Bandera inglesa. 902 88 88 35. O por correo electrónico a atencioncliente@bankinter.com\""
   ]
  },
  {
   "cell_type": "code",
   "execution_count": 29,
   "metadata": {
    "collapsed": false
   },
   "outputs": [
    {
     "data": {
      "text/plain": [
       "['902 13 23 13',\n",
       " '902 88 30 08',\n",
       " '902 88 88 35',\n",
       " 'atencioncliente@bankinter.com']"
      ]
     },
     "execution_count": 29,
     "metadata": {},
     "output_type": "execute_result"
    }
   ],
   "source": [
    "rtelefono = '(\\d{3} \\d{2} \\d{2} \\d{2}).'\n",
    "rcorreo = '\\S+@\\S+'\n",
    "correo = re.search(rcorreo, testStr)\n",
    "correo = correo.group()\n",
    "telefonos = re.findall(rtelefono, testStr)\n",
    "telefonos.append(correo)\n",
    "telefonos"
   ]
  },
  {
   "cell_type": "code",
   "execution_count": 30,
   "metadata": {
    "collapsed": false
   },
   "outputs": [
    {
     "data": {
      "text/plain": [
       "('902 13 23 13',\n",
       " '902 88 30 08',\n",
       " '902 88 88 35',\n",
       " 'atencioncliente@bankinter.com')"
      ]
     },
     "execution_count": 30,
     "metadata": {},
     "output_type": "execute_result"
    }
   ],
   "source": [
    "#Otra manera con una sola expresion regular.\n",
    "regexp ='(\\d{3} \\d{2} \\d{2} \\d{2}). \\S+ \\S+ \\S+ \\S+ \\S+ \\S+.(\\d{3} \\d{2} \\d{2} \\d{2}). \\S+ \\S+ \\S+ \\S+ \\S+ \\S+.(\\d{3} \\d{2} \\d{2} \\d{2}). \\S+ \\S+ \\S+ \\S+ \\S+ (\\S+@\\S+)'\n",
    "datos = re.search(regexp, testStr)\n",
    "datos.groups()"
   ]
  },
  {
   "cell_type": "markdown",
   "metadata": {},
   "source": [
    "## 4. Generar histograma de los puntos anotados por los visitantes (este último punto será para la semana siguiente)"
   ]
  },
  {
   "cell_type": "code",
   "execution_count": 31,
   "metadata": {
    "collapsed": true
   },
   "outputs": [],
   "source": [
    "csv_data = NBA_parsed\n",
    "row_data = csv_data.map(lambda p: Row(\n",
    "    date=p[0], \n",
    "    year=p[1],\n",
    "    hour=p[2],\n",
    "    localTeam=p[3],\n",
    "    localPts=int(p[4]),\n",
    "    visitTeam=p[5],\n",
    "    visitPts=int(p[6]),\n",
    "    )\n",
    ")\n",
    "NBA_df = sqlContext.createDataFrame(row_data)\n",
    "NBA_df.registerTempTable(\"NBALeague\")"
   ]
  },
  {
   "cell_type": "code",
   "execution_count": 32,
   "metadata": {
    "collapsed": true
   },
   "outputs": [],
   "source": [
    "#Histograma de puntos visitantes\n",
    "minValue = summary.min()[1]\n",
    "meanValue = summary.mean()[1]\n",
    "maxValue = summary.max()[1]"
   ]
  },
  {
   "cell_type": "code",
   "execution_count": 33,
   "metadata": {
    "collapsed": false
   },
   "outputs": [
    {
     "name": "stdout",
     "output_type": "stream",
     "text": [
      "+----+--------------------+--------+\n",
      "|year|           visitTeam|visitPts|\n",
      "+----+--------------------+--------+\n",
      "|2007|Golden State Warr...|      96|\n",
      "|2007|  Los Angeles Lakers|      93|\n",
      "|2007|   San Antonio Spurs|     106|\n",
      "|2007| Cleveland Cavaliers|      74|\n",
      "|2007|      Denver Nuggets|     120|\n",
      "+----+--------------------+--------+\n",
      "only showing top 5 rows\n",
      "\n"
     ]
    }
   ],
   "source": [
    "NBA_df = NBA_df.select(\"year\",\"visitTeam\",\"visitPts\")\n",
    "NBA_df.show(5)"
   ]
  },
  {
   "cell_type": "code",
   "execution_count": 34,
   "metadata": {
    "collapsed": false
   },
   "outputs": [
    {
     "name": "stdout",
     "output_type": "stream",
     "text": [
      "93.0 101.0 110.0\n"
     ]
    }
   ],
   "source": [
    "#Mediante la funcion stat.approxQuantile se puede obtener los cuantiles en 0.25,0.5 y 0.75\n",
    "#Esto sirve como orientacion a los puntos del corte del histograma\n",
    "from pyspark.sql import DataFrameStatFunctions as statFunc\n",
    "quantiles = NBA_df.stat.approxQuantile(\"visitPts\",[0.25,0.5,0.75],0.0)\n",
    "(q1,median,q3) = (quantiles[0], quantiles[1], quantiles[2])\n",
    "print(q1,median,q3)"
   ]
  },
  {
   "cell_type": "code",
   "execution_count": 35,
   "metadata": {
    "collapsed": false
   },
   "outputs": [
    {
     "name": "stdout",
     "output_type": "stream",
     "text": [
      "[59.0, 71.11111111111111, 83.22222222222223, 95.33333333333333, 107.44444444444444, 119.55555555555556, 131.66666666666666, 143.77777777777777, 155.88888888888889, 168]\n",
      "[55, 738, 3211, 4908, 2968, 890, 114, 12, 1]\n"
     ]
    }
   ],
   "source": [
    "#Con la funcion histogram se asignan 9 secciones.\n",
    "(startValues,counts) = NBA_df.select(\"visitPts\").rdd.map(lambda value: value[0]).histogram(9)\n",
    "#Visualizamos los puntos de cortes de las 9 secciones\n",
    "print(startValues)\n",
    "#como el contador de partidos con los puntos de los visitantes\n",
    "print(counts)"
   ]
  },
  {
   "cell_type": "code",
   "execution_count": 36,
   "metadata": {
    "collapsed": false
   },
   "outputs": [],
   "source": [
    "import matplotlib.pyplot as plt\n",
    "%matplotlib inline\n",
    "mid_point_bins = startValues[:-1]"
   ]
  },
  {
   "cell_type": "code",
   "execution_count": 37,
   "metadata": {
    "collapsed": false
   },
   "outputs": [],
   "source": [
    "#Calculo de los anchos del histograma\n",
    "acum = 0\n",
    "for i, j in zip(startValues[:-1], startValues[1:]):\n",
    "    diff = j-i+1\n",
    "    acum = acum + diff\n",
    "widths = acum / (len(startValues)-1)"
   ]
  },
  {
   "cell_type": "code",
   "execution_count": 38,
   "metadata": {
    "collapsed": false,
    "scrolled": true
   },
   "outputs": [
    {
     "data": {
      "image/png": "[encoded data removed]",
      "text/plain": [
       "<matplotlib.figure.Figure at 0x7ff0ac405da0>"
      ]
     },
     "metadata": {},
     "output_type": "display_data"
    }
   ],
   "source": [
    "#Grafico del histograma\n",
    "bar = plt.bar(mid_point_bins, counts, width=widths, color='b', align='edge')\n",
    "plt.show()"
   ]
  },
  {
   "cell_type": "code",
   "execution_count": 39,
   "metadata": {
    "collapsed": true
   },
   "outputs": [],
   "source": [
    "sc.stop()"
   ]
  },
  {
   "cell_type": "markdown",
   "metadata": {},
   "source": [
    "#### Bibliografia\n",
    "* Statistical Data Exploration Using Spark by phtak-dev, https://github.com/phatak-dev/Statistical-Data-Exploration-Using-Spark-2.0/blob/master/jupyter/EDA%20on%20Life%20Expectancy%20Data.ipynb\n",
    "(Informacion para Histograma)"
   ]
  }
 ],
 "metadata": {
  "kernelspec": {
   "display_name": "Python 3",
   "language": "python",
   "name": "python3"
  },
  "language_info": {
   "codemirror_mode": {
    "name": "ipython",
    "version": 3
   },
   "file_extension": ".py",
   "mimetype": "text/x-python",
   "name": "python",
   "nbconvert_exporter": "python",
   "pygments_lexer": "ipython3",
   "version": "3.5.2"
  }
 },
 "nbformat": 4,
 "nbformat_minor": 2
}
