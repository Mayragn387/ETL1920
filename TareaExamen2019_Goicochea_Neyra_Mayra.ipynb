{
 "cells": [
  {
   "cell_type": "markdown",
   "metadata": {},
   "source": [
    "# Tarea 03: Examen ETL: SPARK 12+1/02\n",
    "\n",
    "* Curso: ETL\n",
    "* Nombre: Mayra Goicochea Neyra\n",
    "* Fecha: 17/12/2019"
   ]
  },
  {
   "cell_type": "markdown",
   "metadata": {},
   "source": [
    "Se podrá utilizar toda la información que se encuentra en el campus. \n",
    "\n",
    "Se va a trabajar sobre varios ficheros de datos:\n",
    "\n",
    "Usuarios: id_usuario::sexo::edad::id_profesion::codigo_postal\n",
    "\n",
    "Peliculas: id_pelicula::titulo (año)::tipo1|tipo2|tipo3\n",
    "\n",
    "Ratings: id_pelicula::id_usuario::puntuacion::fecha_timestamp\n",
    "\n",
    "A cada una de las preguntas hay que responder explicando brevemente que se pretende hacer antes de lanzar el código.\n",
    "\n",
    "Al documento lo llamareís con vuestro nombre y apellido. Debeís enviarlo a mi correo de CUNEF antes del final del examen.\n",
    "\n",
    "El lenguaje para trabajar con Spark podrá ser python o R indistintamente."
   ]
  },
  {
   "cell_type": "code",
   "execution_count": 1,
   "metadata": {
    "collapsed": true
   },
   "outputs": [],
   "source": [
    "# Nota: Carga de las puntuaciones\n",
    "# Función para parsear la fecha\n",
    "\n",
    "from datetime import datetime\n",
    "dateparse = lambda x: datetime.fromtimestamp(float(x))"
   ]
  },
  {
   "cell_type": "markdown",
   "metadata": {},
   "source": [
    "## Primera tarea: Inicializar spark context y cargar los datos desde los ficheros."
   ]
  },
  {
   "cell_type": "code",
   "execution_count": 2,
   "metadata": {
    "collapsed": true
   },
   "outputs": [],
   "source": [
    "import re"
   ]
  },
  {
   "cell_type": "code",
   "execution_count": 3,
   "metadata": {
    "collapsed": true
   },
   "outputs": [],
   "source": [
    "from pyspark import SparkContext\n",
    "sc = SparkContext()"
   ]
  },
  {
   "cell_type": "code",
   "execution_count": 4,
   "metadata": {
    "collapsed": false
   },
   "outputs": [],
   "source": [
    "from pyspark.sql import *\n",
    "from pyspark.sql.functions import *\n",
    "from pyspark.sql.types import *\n",
    "import datetime as dt"
   ]
  },
  {
   "cell_type": "code",
   "execution_count": 5,
   "metadata": {
    "collapsed": true
   },
   "outputs": [],
   "source": [
    "from pyspark.sql import SQLContext\n",
    "sqlContext = SQLContext(sc)\n",
    "from pyspark.sql import Row"
   ]
  },
  {
   "cell_type": "code",
   "execution_count": 6,
   "metadata": {
    "collapsed": false
   },
   "outputs": [],
   "source": [
    "def parseMovie(line):\n",
    "    return line.replace(')(1',') (1').replace(' (1','::1').replace(' (2','::2').replace(')','').split(\"::\")"
   ]
  },
  {
   "cell_type": "code",
   "execution_count": 7,
   "metadata": {
    "collapsed": false
   },
   "outputs": [],
   "source": [
    "def parseRating(line):\n",
    "    return line.split(\"::\")"
   ]
  },
  {
   "cell_type": "code",
   "execution_count": 8,
   "metadata": {
    "collapsed": true
   },
   "outputs": [],
   "source": [
    "movies = sc.textFile('movies.dat.txt')"
   ]
  },
  {
   "cell_type": "markdown",
   "metadata": {},
   "source": [
    "### Carga Dataset Movies.dat\n",
    "Se crea el contexto SQL a traves del dataframe con los campos Movie_id, Movie_title, Year, Category."
   ]
  },
  {
   "cell_type": "code",
   "execution_count": 10,
   "metadata": {
    "collapsed": false
   },
   "outputs": [
    {
     "name": "stdout",
     "output_type": "stream",
     "text": [
      "+--------------------+--------+--------------------+----+\n",
      "|            category|movie_id|         movie_title|year|\n",
      "+--------------------+--------+--------------------+----+\n",
      "|Animation|Childre...|       1|           Toy Story|1995|\n",
      "|Adventure|Childre...|       2|             Jumanji|1995|\n",
      "|      Comedy|Romance|       3|    Grumpier Old Men|1995|\n",
      "|        Comedy|Drama|       4|   Waiting to Exhale|1995|\n",
      "|              Comedy|       5|Father of the Bri...|1995|\n",
      "|Action|Crime|Thri...|       6|                Heat|1995|\n",
      "|      Comedy|Romance|       7|             Sabrina|1995|\n",
      "|Adventure|Children's|       8|        Tom and Huck|1995|\n",
      "|              Action|       9|        Sudden Death|1995|\n",
      "|Action|Adventure|...|      10|           GoldenEye|1995|\n",
      "|Comedy|Drama|Romance|      11|American Presiden...|1995|\n",
      "|       Comedy|Horror|      12|Dracula: Dead and...|1995|\n",
      "|Animation|Children's|      13|               Balto|1995|\n",
      "|               Drama|      14|               Nixon|1995|\n",
      "|Action|Adventure|...|      15|    Cutthroat Island|1995|\n",
      "|      Drama|Thriller|      16|              Casino|1995|\n",
      "|       Drama|Romance|      17|Sense and Sensibi...|1995|\n",
      "|            Thriller|      18|          Four Rooms|1995|\n",
      "|              Comedy|      19|Ace Ventura: When...|1995|\n",
      "|              Action|      20|         Money Train|1995|\n",
      "+--------------------+--------+--------------------+----+\n",
      "only showing top 20 rows\n",
      "\n"
     ]
    }
   ],
   "source": [
    "movies_df = movies.map(lambda x: Row(movie_id = int(parseMovie(x)[0]),\n",
    "                                     movie_title = str(parseMovie(x)[1]),\n",
    "                                     year = int(parseMovie(x)[2]),\n",
    "                                     category = str(parseMovie(x)[3]))).toDF()\n",
    "movies_df.show(20)"
   ]
  },
  {
   "cell_type": "code",
   "execution_count": 12,
   "metadata": {
    "collapsed": false
   },
   "outputs": [
    {
     "name": "stdout",
     "output_type": "stream",
     "text": [
      "root\n",
      " |-- category: string (nullable = true)\n",
      " |-- movie_id: long (nullable = true)\n",
      " |-- movie_title: string (nullable = true)\n",
      " |-- year: long (nullable = true)\n",
      "\n"
     ]
    }
   ],
   "source": [
    "movies_df.registerTempTable(\"Movies\")\n",
    "movies_df.printSchema()"
   ]
  },
  {
   "cell_type": "code",
   "execution_count": 13,
   "metadata": {
    "collapsed": false
   },
   "outputs": [
    {
     "name": "stdout",
     "output_type": "stream",
     "text": [
      "+-------+------------------+\n",
      "|summary|              year|\n",
      "+-------+------------------+\n",
      "|  count|              3883|\n",
      "|   mean|1986.0669585372134|\n",
      "| stddev|16.895690157525554|\n",
      "|    min|              1919|\n",
      "|    max|              2000|\n",
      "+-------+------------------+\n",
      "\n"
     ]
    }
   ],
   "source": [
    "movies_df.select('year').describe().show()"
   ]
  },
  {
   "cell_type": "markdown",
   "metadata": {},
   "source": [
    "### Carga Dataset Rating.dat\n",
    "Se crea el contexto SQL a traves del dataframe con los campos User_id, Movie_id, Rating, Timestamp."
   ]
  },
  {
   "cell_type": "code",
   "execution_count": 14,
   "metadata": {
    "collapsed": true
   },
   "outputs": [],
   "source": [
    "ratings = sc.textFile('ratings.dat.txt')"
   ]
  },
  {
   "cell_type": "code",
   "execution_count": 15,
   "metadata": {
    "collapsed": false
   },
   "outputs": [
    {
     "data": {
      "text/plain": [
       "[['1', '1193', '5', '978300760'],\n",
       " ['1', '661', '3', '978302109'],\n",
       " ['1', '914', '3', '978301968'],\n",
       " ['1', '3408', '4', '978300275'],\n",
       " ['1', '2355', '5', '978824291']]"
      ]
     },
     "execution_count": 15,
     "metadata": {},
     "output_type": "execute_result"
    }
   ],
   "source": [
    "ratings.map(lambda x: parseRating(x)).take(5)"
   ]
  },
  {
   "cell_type": "code",
   "execution_count": 16,
   "metadata": {
    "collapsed": false
   },
   "outputs": [
    {
     "name": "stdout",
     "output_type": "stream",
     "text": [
      "+--------+------+--------------------+-------+\n",
      "|movie_id|rating|           timestamp|user_id|\n",
      "+--------+------+--------------------+-------+\n",
      "|    1193|     5|2000-12-31 22:12:...|      1|\n",
      "|     661|     3|2000-12-31 22:35:...|      1|\n",
      "|     914|     3|2000-12-31 22:32:...|      1|\n",
      "|    3408|     4|2000-12-31 22:04:...|      1|\n",
      "|    2355|     5|2001-01-06 23:38:...|      1|\n",
      "|    1197|     3|2000-12-31 22:37:...|      1|\n",
      "|    1287|     5|2000-12-31 22:33:...|      1|\n",
      "|    2804|     5|2000-12-31 22:11:...|      1|\n",
      "|     594|     4|2000-12-31 22:37:...|      1|\n",
      "|     919|     4|2000-12-31 22:22:...|      1|\n",
      "|     595|     5|2001-01-06 23:37:...|      1|\n",
      "|     938|     4|2000-12-31 22:29:...|      1|\n",
      "|    2398|     4|2000-12-31 22:38:...|      1|\n",
      "|    2918|     4|2000-12-31 22:35:...|      1|\n",
      "|    1035|     5|2000-12-31 22:29:...|      1|\n",
      "|    2791|     4|2000-12-31 22:36:...|      1|\n",
      "|    2687|     3|2001-01-06 23:37:...|      1|\n",
      "|    2018|     4|2000-12-31 22:29:...|      1|\n",
      "|    3105|     5|2000-12-31 22:28:...|      1|\n",
      "|    2797|     4|2000-12-31 22:33:...|      1|\n",
      "+--------+------+--------------------+-------+\n",
      "only showing top 20 rows\n",
      "\n"
     ]
    }
   ],
   "source": [
    "ratings_df = ratings.map(lambda x: Row(user_id = int(parseRating(x)[0]),\n",
    "                                     movie_id = int(parseRating(x)[1]),\n",
    "                                     rating = int(parseRating(x)[2]),\n",
    "                                     timestamp = dateparse(parseRating(x)[3]))).toDF()\n",
    "ratings_df.show(20)"
   ]
  },
  {
   "cell_type": "code",
   "execution_count": 17,
   "metadata": {
    "collapsed": false,
    "scrolled": false
   },
   "outputs": [
    {
     "name": "stdout",
     "output_type": "stream",
     "text": [
      "root\n",
      " |-- movie_id: long (nullable = true)\n",
      " |-- rating: long (nullable = true)\n",
      " |-- timestamp: timestamp (nullable = true)\n",
      " |-- user_id: long (nullable = true)\n",
      "\n"
     ]
    }
   ],
   "source": [
    "ratings_df.registerTempTable(\"Rating\")\n",
    "ratings_df.printSchema()"
   ]
  },
  {
   "cell_type": "markdown",
   "metadata": {},
   "source": [
    "### Carga Dataset Users.dat\n",
    "Se crea el contexto SQL a traves del dataframe con los campos User_id, Movie_id, Rating, Timestamp."
   ]
  },
  {
   "cell_type": "code",
   "execution_count": 18,
   "metadata": {
    "collapsed": true
   },
   "outputs": [],
   "source": [
    "users = sc.textFile('users.dat.txt')"
   ]
  },
  {
   "cell_type": "markdown",
   "metadata": {},
   "source": [
    "El dataset esta compuesto para los siguientes campos:\n",
    "UserID::Gender::Age::Occupation::Zip-code\n",
    "\n",
    "* UserId, código del usuario\n",
    "* Gender, género del usuario\n",
    "* Age, rango de la edad del usuario:\n",
    "    *  1:  \"Menor a 18\"\n",
    "\t* 18:  \"18-24\"\n",
    "\t* 25:  \"25-34\"\n",
    "\t* 35:  \"35-44\"\n",
    "\t* 45:  \"45-49\"\n",
    "\t* 50:  \"50-55\"\n",
    "\t* 56:  \"56+\"\n",
    "* Occupation, profesión del usuario:\n",
    "    *  0:  \"other\" or not specified\n",
    "\t*  1:  \"academic/educator\"\n",
    "\t*  2:  \"artist\"\n",
    "\t*  3:  \"clerical/admin\"\n",
    "\t*  4:  \"college/grad student\"\n",
    "\t*  5:  \"customer service\"\n",
    "\t*  6:  \"doctor/health care\"\n",
    "\t*  7:  \"executive/managerial\"\n",
    "\t*  8:  \"farmer\"\n",
    "\t*  9:  \"homemaker\"\n",
    "\t* 10:  \"K-12 student\"\n",
    "\t* 11:  \"lawyer\"\n",
    "\t* 12:  \"programmer\"\n",
    "\t* 13:  \"retired\"\n",
    "\t* 14:  \"sales/marketing\"\n",
    "\t* 15:  \"scientist\"\n",
    "\t* 16:  \"self-employed\"\n",
    "\t* 17:  \"technician/engineer\"\n",
    "\t* 18:  \"tradesman/craftsman\"\n",
    "\t* 19:  \"unemployed\"\n",
    "\t* 20:  \"writer\"\n",
    "* zipcode, código postal donde reside el usuario.\n",
    "\n",
    "[Fuente: http://files.grouplens.org/papers/ml-1m-README.txt]"
   ]
  },
  {
   "cell_type": "code",
   "execution_count": 19,
   "metadata": {
    "collapsed": false
   },
   "outputs": [
    {
     "name": "stdout",
     "output_type": "stream",
     "text": [
      "+---------+------+---------+-------+-------+\n",
      "|age_range|gender|ocupation|user_id|zipcode|\n",
      "+---------+------+---------+-------+-------+\n",
      "|        1|     F|       10|      1|     10|\n",
      "|       56|     M|       16|      2|     16|\n",
      "|       25|     M|       15|      3|     15|\n",
      "|       45|     M|        7|      4|      7|\n",
      "|       25|     M|       20|      5|     20|\n",
      "|       50|     F|        9|      6|      9|\n",
      "|       35|     M|        1|      7|      1|\n",
      "|       25|     M|       12|      8|     12|\n",
      "|       25|     M|       17|      9|     17|\n",
      "|       35|     F|        1|     10|      1|\n",
      "|       25|     F|        1|     11|      1|\n",
      "|       25|     M|       12|     12|     12|\n",
      "|       45|     M|        1|     13|      1|\n",
      "|       35|     M|        0|     14|      0|\n",
      "|       25|     M|        7|     15|      7|\n",
      "|       35|     F|        0|     16|      0|\n",
      "|       50|     M|        1|     17|      1|\n",
      "|       18|     F|        3|     18|      3|\n",
      "|        1|     M|       10|     19|     10|\n",
      "|       25|     M|       14|     20|     14|\n",
      "+---------+------+---------+-------+-------+\n",
      "only showing top 20 rows\n",
      "\n"
     ]
    }
   ],
   "source": [
    "users_df = users.map(lambda x: x.split(\"::\")).map(lambda x: Row(user_id = int(x[0]),\n",
    "                                     gender = str(x[1]),\n",
    "                                     age_range = int(x[2]),\n",
    "                                     ocupation = int(x[3]),\n",
    "                                     zipcode = str(x[3]))).toDF()\n",
    "users_df.show(20)"
   ]
  },
  {
   "cell_type": "code",
   "execution_count": 20,
   "metadata": {
    "collapsed": false,
    "scrolled": true
   },
   "outputs": [
    {
     "name": "stdout",
     "output_type": "stream",
     "text": [
      "root\n",
      " |-- age_range: long (nullable = true)\n",
      " |-- gender: string (nullable = true)\n",
      " |-- ocupation: long (nullable = true)\n",
      " |-- user_id: long (nullable = true)\n",
      " |-- zipcode: string (nullable = true)\n",
      "\n"
     ]
    }
   ],
   "source": [
    "users_df.registerTempTable(\"Users\")\n",
    "users_df.printSchema()"
   ]
  },
  {
   "cell_type": "code",
   "execution_count": 21,
   "metadata": {
    "collapsed": false
   },
   "outputs": [
    {
     "name": "stdout",
     "output_type": "stream",
     "text": [
      "+-------+------------------+\n",
      "|summary|         age_range|\n",
      "+-------+------------------+\n",
      "|  count|              6040|\n",
      "|   mean|30.639238410596025|\n",
      "| stddev|12.895961726906837|\n",
      "|    min|                 1|\n",
      "|    max|                56|\n",
      "+-------+------------------+\n",
      "\n"
     ]
    }
   ],
   "source": [
    "users_df.select('age_range').describe().show()"
   ]
  },
  {
   "cell_type": "markdown",
   "metadata": {},
   "source": [
    "## Segunda tarea: Media de puntuaciones globales por año. ¿Hay algún año significativamente distinto?"
   ]
  },
  {
   "cell_type": "markdown",
   "metadata": {},
   "source": [
    "Se extrae la lista de puntuaciones media globales por año, los primeros 50 registros muestran un valor medio entre 3 y 4 puntos."
   ]
  },
  {
   "cell_type": "code",
   "execution_count": 22,
   "metadata": {
    "collapsed": true
   },
   "outputs": [],
   "source": [
    "import pyspark.sql.functions as f"
   ]
  },
  {
   "cell_type": "code",
   "execution_count": 23,
   "metadata": {
    "collapsed": false
   },
   "outputs": [
    {
     "name": "stdout",
     "output_type": "stream",
     "text": [
      "+----+------------------+\n",
      "|year|  Puntuacion_Media|\n",
      "+----+------------------+\n",
      "|1927| 4.277777777777778|\n",
      "|1941| 4.179837303893086|\n",
      "|1946| 4.162652980655349|\n",
      "|1952| 4.126487163431434|\n",
      "|1957| 4.108890214797136|\n",
      "|1942| 4.103531542408693|\n",
      "|1939| 4.101479915433404|\n",
      "|1931| 4.097407698350353|\n",
      "|1962| 4.088640973630832|\n",
      "|1951|  4.08632721633497|\n",
      "|1934| 4.082375478927203|\n",
      "|1930|4.0811518324607325|\n",
      "|1944| 4.078352180936995|\n",
      "|1938| 4.072043852779953|\n",
      "|1935| 4.046560846560847|\n",
      "|1954| 4.045522868799656|\n",
      "|1949|4.0416243654822335|\n",
      "|1936|  4.04140127388535|\n",
      "|1925| 4.040998217468806|\n",
      "|1948| 4.029758562605278|\n",
      "|1959| 4.021418174256603|\n",
      "|1974|4.0082125603864736|\n",
      "|1950| 4.005405405405406|\n",
      "|1922| 3.991596638655462|\n",
      "|1940| 3.988490182802979|\n",
      "|1967|3.9859528640549398|\n",
      "|1963| 3.967239185750636|\n",
      "|1926|3.9639830508474576|\n",
      "|1977| 3.949454673390407|\n",
      "|1972| 3.946375372393247|\n",
      "|1966|3.9372837370242215|\n",
      "|1960|3.9265951439864484|\n",
      "|1964| 3.922020484171322|\n",
      "|1969| 3.921201933179239|\n",
      "|1928| 3.888888888888889|\n",
      "|1937|3.8858350951374208|\n",
      "|1953|3.8666456494325345|\n",
      "|1933| 3.866043613707165|\n",
      "|1947|3.8598984771573606|\n",
      "|1955| 3.858729706636286|\n",
      "|1971|  3.85761721344136|\n",
      "|1970|3.8572706935123042|\n",
      "|1975|3.8428945489169246|\n",
      "|1973| 3.840083555761866|\n",
      "|1968|3.8198246080255114|\n",
      "|1956| 3.817452006980803|\n",
      "|1961| 3.814486174164259|\n",
      "|1965|3.7952863798300904|\n",
      "|1976|3.7937915742793793|\n",
      "|1921|3.7903225806451615|\n",
      "+----+------------------+\n",
      "only showing top 50 rows\n",
      "\n"
     ]
    }
   ],
   "source": [
    "rating_year = movies_df.join(ratings_df,on='movie_id').groupby('year').agg(f.avg('rating').alias('Puntuacion_Media')).orderBy('Puntuacion_Media', ascending=False).show(50)"
   ]
  },
  {
   "cell_type": "markdown",
   "metadata": {},
   "source": [
    "## Tercera pregunta: ¿Cuál es la película más votada por los mayores de 60? "
   ]
  },
  {
   "cell_type": "markdown",
   "metadata": {},
   "source": [
    "Dado que el último rango de edad es de 56 a más años. Se considera la pelicula con puntuacion media mayor de este grupo de usuarios."
   ]
  },
  {
   "cell_type": "code",
   "execution_count": 26,
   "metadata": {
    "collapsed": false
   },
   "outputs": [],
   "source": [
    "users_56= users_df.filter(users_df.age_range == 56)\n",
    "movies_60_ratings_avg = ratings_df.join(users_56, on='user_id', how='inner').groupby('movie_id').agg(f.avg('rating').alias('Puntuacion_Media'),f.count('user_id').alias('Nro_Votaciones')).join(movies_df, on='movie_id')"
   ]
  },
  {
   "cell_type": "code",
   "execution_count": 27,
   "metadata": {
    "collapsed": false
   },
   "outputs": [
    {
     "name": "stdout",
     "output_type": "stream",
     "text": [
      "+--------+--------------------+----------------+\n",
      "|movie_id|         movie_title|Puntuacion_media|\n",
      "+--------+--------------------+----------------+\n",
      "|    3158|Emperor and the A...|             5.0|\n",
      "|     270|         Love Affair|             5.0|\n",
      "|    3382|     Song of Freedom|             5.0|\n",
      "|    3866|        Sunset Strip|             5.0|\n",
      "|    1360|Identification of...|             5.0|\n",
      "+--------+--------------------+----------------+\n",
      "only showing top 5 rows\n",
      "\n"
     ]
    }
   ],
   "source": [
    "movies_60_ratings_avg.select(['movie_id','movie_title','Puntuacion_media']).orderBy('Puntuacion_Media', ascending=False).show(5)"
   ]
  },
  {
   "cell_type": "markdown",
   "metadata": {},
   "source": [
    "También se calcula la pelicula con mas votaciones por los usuarios."
   ]
  },
  {
   "cell_type": "code",
   "execution_count": 28,
   "metadata": {
    "collapsed": false
   },
   "outputs": [
    {
     "name": "stdout",
     "output_type": "stream",
     "text": [
      "+--------+-------------------+--------------+\n",
      "|movie_id|        movie_title|Nro_Votaciones|\n",
      "+--------+-------------------+--------------+\n",
      "|    2858|    American Beauty|           184|\n",
      "|     527|   Schindler's List|           137|\n",
      "|    2396|Shakespeare in Love|           136|\n",
      "|     858|     Godfather, The|           122|\n",
      "|    2028|Saving Private Ryan|           121|\n",
      "+--------+-------------------+--------------+\n",
      "only showing top 5 rows\n",
      "\n"
     ]
    }
   ],
   "source": [
    "movies_60_ratings_avg.select(['movie_id','movie_title','Nro_Votaciones']).orderBy('Nro_Votaciones', ascending=False).show(5)"
   ]
  },
  {
   "cell_type": "markdown",
   "metadata": {},
   "source": [
    "## Cuarta pregunta: ¿Cuál es la puntuación media de las peliculas de acción del año 2000?"
   ]
  },
  {
   "cell_type": "markdown",
   "metadata": {},
   "source": [
    "Se calcula la puntuacion media por pelicula del archivo Ratings y por otro lado se obtiene las peliculas de accion del año 2000 del dataset de Movies. Ambos conjuntos de datos se une mediante un join en la columna movie_id. Se obtiene el promedio agregado de todas las puntuaciones medias."
   ]
  },
  {
   "cell_type": "code",
   "execution_count": 29,
   "metadata": {
    "collapsed": true
   },
   "outputs": [],
   "source": [
    "rating_avg =ratings_df.groupby('movie_id').agg(f.avg('rating').alias('Puntuacion_Media')).orderBy('Puntuacion_Media', ascending=False)"
   ]
  },
  {
   "cell_type": "code",
   "execution_count": 30,
   "metadata": {
    "collapsed": false
   },
   "outputs": [
    {
     "name": "stdout",
     "output_type": "stream",
     "text": [
      "+------------------+\n",
      "|        Puntuacion|\n",
      "+------------------+\n",
      "|3.0500482715063235|\n",
      "+------------------+\n",
      "\n"
     ]
    }
   ],
   "source": [
    "action_movies2000_rating = movies_df.filter(\"category like '%Action%' AND year==2000\").join(rating_avg, on='movie_id').select(['movie_title','category','year','Puntuacion_Media'])\n",
    "\n",
    "action_movies2000_rating.agg(f.avg('Puntuacion_Media').alias('Puntuacion')).show()"
   ]
  },
  {
   "cell_type": "markdown",
   "metadata": {},
   "source": [
    "## Quinta pregunta: ¿ Cuál es el año en que mayor número de usuarios votaron?"
   ]
  },
  {
   "cell_type": "markdown",
   "metadata": {},
   "source": [
    "Se calcula el numero de usuarios que votaron en el archivo Ratings. Este conjunto de datos se une con el dataframe de Movies. Finalmente se realiza la suma agregada por año y se muestra. El año 1999 tiene el mayor número de usuarios."
   ]
  },
  {
   "cell_type": "code",
   "execution_count": 31,
   "metadata": {
    "collapsed": false
   },
   "outputs": [
    {
     "name": "stdout",
     "output_type": "stream",
     "text": [
      "+----+------------+\n",
      "|year|Nro_usuarios|\n",
      "+----+------------+\n",
      "|1999|       86833|\n",
      "|1998|       68226|\n",
      "|1997|       65402|\n",
      "|1995|       60754|\n",
      "|1996|       59382|\n",
      "+----+------------+\n",
      "only showing top 5 rows\n",
      "\n"
     ]
    }
   ],
   "source": [
    "usr_ratings_count = ratings_df.groupby('movie_id').agg(f.count('user_id').alias('Nro_usuarios'))\n",
    "movies_df.join(usr_ratings_count, on='movie_id', how='inner').groupby('year').agg(f.sum('Nro_usuarios').alias('Nro_usuarios')).orderBy('Nro_usuarios', ascending=False).show(5)"
   ]
  },
  {
   "cell_type": "markdown",
   "metadata": {},
   "source": [
    "## Sexta pregunta: ¿ Cuál es la película con mejor puntación media?"
   ]
  },
  {
   "cell_type": "markdown",
   "metadata": {},
   "source": [
    "Se une el conjunto de datos de puntuaciones medias del archivo Rating con el dataframe de Movies, para obtener finalmente la lista de puntuaciones medias por pelicula."
   ]
  },
  {
   "cell_type": "code",
   "execution_count": 32,
   "metadata": {
    "collapsed": false
   },
   "outputs": [
    {
     "name": "stdout",
     "output_type": "stream",
     "text": [
      "+--------------------+----------------+\n",
      "|         movie_title|Puntuacion_Media|\n",
      "+--------------------+----------------+\n",
      "|   One Little Indian|             5.0|\n",
      "|Schlafes Bruder (...|             5.0|\n",
      "|       Smashing Time|             5.0|\n",
      "|     Song of Freedom|             5.0|\n",
      "|           Baby, The|             5.0|\n",
      "+--------------------+----------------+\n",
      "only showing top 5 rows\n",
      "\n"
     ]
    }
   ],
   "source": [
    "movies_df.join(rating_avg, on='movie_id').select(['movie_title','Puntuacion_Media']).orderBy('Puntuacion_Media', ascending=False).show(5)"
   ]
  }
 ],
 "metadata": {
  "kernelspec": {
   "display_name": "Python 3",
   "language": "python",
   "name": "python3"
  },
  "language_info": {
   "codemirror_mode": {
    "name": "ipython",
    "version": 3
   },
   "file_extension": ".py",
   "mimetype": "text/x-python",
   "name": "python",
   "nbconvert_exporter": "python",
   "pygments_lexer": "ipython3",
   "version": "3.5.2"
  }
 },
 "nbformat": 4,
 "nbformat_minor": 2
}
